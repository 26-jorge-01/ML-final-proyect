{
 "cells": [
  {
   "cell_type": "code",
   "execution_count": 1,
   "metadata": {},
   "outputs": [],
   "source": [
    "import pandas as pd"
   ]
  },
  {
   "cell_type": "code",
   "execution_count": 3,
   "metadata": {},
   "outputs": [
    {
     "data": {
      "text/plain": [
       "(10976, 7)"
      ]
     },
     "execution_count": 3,
     "metadata": {},
     "output_type": "execute_result"
    }
   ],
   "source": [
    "entidades = pd.read_csv(\"../data/bronze/entidades_unicas.csv\", sep=';')\n",
    "entidades.shape"
   ]
  },
  {
   "cell_type": "code",
   "execution_count": 5,
   "metadata": {},
   "outputs": [
    {
     "data": {
      "text/plain": [
       "ID\n",
       "0       120\n",
       "2323     94\n",
       "30       37\n",
       "3747     37\n",
       "1177     33\n",
       "93       30\n",
       "2584     27\n",
       "53       24\n",
       "104      24\n",
       "142      21\n",
       "94       21\n",
       "Name: count, dtype: int64"
      ]
     },
     "execution_count": 5,
     "metadata": {},
     "output_type": "execute_result"
    }
   ],
   "source": [
    "entidades['ID'].value_counts()[:11]"
   ]
  },
  {
   "cell_type": "code",
   "execution_count": 6,
   "metadata": {},
   "outputs": [
    {
     "data": {
      "text/plain": [
       "(348, 7)"
      ]
     },
     "execution_count": 6,
     "metadata": {},
     "output_type": "execute_result"
    }
   ],
   "source": [
    "# Se consideran las diez etiquetas con más registros a excepción de la etiqueta igual a cero ya que contiene mucho ruido\n",
    "ids_a_considerar = [2323, 30, 3747, 1177, 93, 2584, 53, 104, 142, 94]\n",
    "entidades_modelo = entidades[entidades['ID'].isin(ids_a_considerar)]\n",
    "entidades_modelo.shape"
   ]
  },
  {
   "cell_type": "code",
   "execution_count": 8,
   "metadata": {},
   "outputs": [
    {
     "data": {
      "text/html": [
       "<div>\n",
       "<style scoped>\n",
       "    .dataframe tbody tr th:only-of-type {\n",
       "        vertical-align: middle;\n",
       "    }\n",
       "\n",
       "    .dataframe tbody tr th {\n",
       "        vertical-align: top;\n",
       "    }\n",
       "\n",
       "    .dataframe thead th {\n",
       "        text-align: right;\n",
       "    }\n",
       "</style>\n",
       "<table border=\"1\" class=\"dataframe\">\n",
       "  <thead>\n",
       "    <tr style=\"text-align: right;\">\n",
       "      <th></th>\n",
       "      <th>NOMBRE</th>\n",
       "      <th>CODIGO</th>\n",
       "      <th>NIT</th>\n",
       "      <th>ID</th>\n",
       "    </tr>\n",
       "  </thead>\n",
       "  <tbody>\n",
       "    <tr>\n",
       "      <th>203</th>\n",
       "      <td>DEPARTAMENTO CUNDINAMARCASECRETARIA JURIDICA</td>\n",
       "      <td>702165101.0</td>\n",
       "      <td>899999114</td>\n",
       "      <td>30</td>\n",
       "    </tr>\n",
       "    <tr>\n",
       "      <th>204</th>\n",
       "      <td>DEPARTAMENTO CUNDINAMARCASECRETARIA MINAS ENER...</td>\n",
       "      <td>702262189.0</td>\n",
       "      <td>899999114</td>\n",
       "      <td>30</td>\n",
       "    </tr>\n",
       "    <tr>\n",
       "      <th>205</th>\n",
       "      <td>DEPARTAMENTO CUNDINAMARCASECRETARIA MUJER EQUI...</td>\n",
       "      <td>702312794.0</td>\n",
       "      <td>899999114</td>\n",
       "      <td>30</td>\n",
       "    </tr>\n",
       "    <tr>\n",
       "      <th>206</th>\n",
       "      <td>DEPARTAMENTO CUNDINAMARCASECRETARIA PLANEACION</td>\n",
       "      <td>708701222.0</td>\n",
       "      <td>899999114</td>\n",
       "      <td>30</td>\n",
       "    </tr>\n",
       "    <tr>\n",
       "      <th>207</th>\n",
       "      <td>DEPARTAMENTO CUNDINAMARCASECRETARIA TECNOLOGIA...</td>\n",
       "      <td>702162363.0</td>\n",
       "      <td>899999114</td>\n",
       "      <td>30</td>\n",
       "    </tr>\n",
       "  </tbody>\n",
       "</table>\n",
       "</div>"
      ],
      "text/plain": [
       "                                                NOMBRE       CODIGO  \\\n",
       "203       DEPARTAMENTO CUNDINAMARCASECRETARIA JURIDICA  702165101.0   \n",
       "204  DEPARTAMENTO CUNDINAMARCASECRETARIA MINAS ENER...  702262189.0   \n",
       "205  DEPARTAMENTO CUNDINAMARCASECRETARIA MUJER EQUI...  702312794.0   \n",
       "206     DEPARTAMENTO CUNDINAMARCASECRETARIA PLANEACION  708701222.0   \n",
       "207  DEPARTAMENTO CUNDINAMARCASECRETARIA TECNOLOGIA...  702162363.0   \n",
       "\n",
       "           NIT  ID  \n",
       "203  899999114  30  \n",
       "204  899999114  30  \n",
       "205  899999114  30  \n",
       "206  899999114  30  \n",
       "207  899999114  30  "
      ]
     },
     "execution_count": 8,
     "metadata": {},
     "output_type": "execute_result"
    }
   ],
   "source": [
    "# Se eliminarán las columnas que no se necesitarán para la ejecución del proyecto\n",
    "entidades_modelo = entidades_modelo.drop(columns=['ORDEN', 'DEPARTAMENTO', 'MUNICIPIO'])\n",
    "entidades_modelo.head()"
   ]
  },
  {
   "cell_type": "code",
   "execution_count": 14,
   "metadata": {},
   "outputs": [
    {
     "data": {
      "text/html": [
       "<div>\n",
       "<style scoped>\n",
       "    .dataframe tbody tr th:only-of-type {\n",
       "        vertical-align: middle;\n",
       "    }\n",
       "\n",
       "    .dataframe tbody tr th {\n",
       "        vertical-align: top;\n",
       "    }\n",
       "\n",
       "    .dataframe thead th {\n",
       "        text-align: right;\n",
       "    }\n",
       "</style>\n",
       "<table border=\"1\" class=\"dataframe\">\n",
       "  <thead>\n",
       "    <tr style=\"text-align: right;\">\n",
       "      <th></th>\n",
       "      <th>NOMBRE</th>\n",
       "      <th>CODIGO</th>\n",
       "      <th>NIT</th>\n",
       "      <th>ID</th>\n",
       "    </tr>\n",
       "  </thead>\n",
       "  <tbody>\n",
       "    <tr>\n",
       "      <th>203</th>\n",
       "      <td>DEPARTAMENTO CUNDINAMARCASECRETARIA JURIDICA</td>\n",
       "      <td>702165101.0</td>\n",
       "      <td>899999114</td>\n",
       "      <td>30</td>\n",
       "    </tr>\n",
       "    <tr>\n",
       "      <th>204</th>\n",
       "      <td>DEPARTAMENTO CUNDINAMARCASECRETARIA MINAS ENER...</td>\n",
       "      <td>702262189.0</td>\n",
       "      <td>899999114</td>\n",
       "      <td>30</td>\n",
       "    </tr>\n",
       "    <tr>\n",
       "      <th>205</th>\n",
       "      <td>DEPARTAMENTO CUNDINAMARCASECRETARIA MUJER EQUI...</td>\n",
       "      <td>702312794.0</td>\n",
       "      <td>899999114</td>\n",
       "      <td>30</td>\n",
       "    </tr>\n",
       "    <tr>\n",
       "      <th>206</th>\n",
       "      <td>DEPARTAMENTO CUNDINAMARCASECRETARIA PLANEACION</td>\n",
       "      <td>708701222.0</td>\n",
       "      <td>899999114</td>\n",
       "      <td>30</td>\n",
       "    </tr>\n",
       "    <tr>\n",
       "      <th>207</th>\n",
       "      <td>DEPARTAMENTO CUNDINAMARCASECRETARIA TECNOLOGIA...</td>\n",
       "      <td>702162363.0</td>\n",
       "      <td>899999114</td>\n",
       "      <td>30</td>\n",
       "    </tr>\n",
       "    <tr>\n",
       "      <th>...</th>\n",
       "      <td>...</td>\n",
       "      <td>...</td>\n",
       "      <td>...</td>\n",
       "      <td>...</td>\n",
       "    </tr>\n",
       "    <tr>\n",
       "      <th>9172</th>\n",
       "      <td>ICBF REGIONAL CHOCO</td>\n",
       "      <td>704142603.0</td>\n",
       "      <td>899999239</td>\n",
       "      <td>3747</td>\n",
       "    </tr>\n",
       "    <tr>\n",
       "      <th>9173</th>\n",
       "      <td>ICBF REGIONAL CORDOBA</td>\n",
       "      <td>704187525.0</td>\n",
       "      <td>899999239</td>\n",
       "      <td>3747</td>\n",
       "    </tr>\n",
       "    <tr>\n",
       "      <th>9174</th>\n",
       "      <td>ICBF REGIONAL GUAJIRA</td>\n",
       "      <td>703458380.0</td>\n",
       "      <td>899999239</td>\n",
       "      <td>3747</td>\n",
       "    </tr>\n",
       "    <tr>\n",
       "      <th>9175</th>\n",
       "      <td>ICBF REGIONAL GUAVIARE</td>\n",
       "      <td>704192269.0</td>\n",
       "      <td>899999239</td>\n",
       "      <td>3747</td>\n",
       "    </tr>\n",
       "    <tr>\n",
       "      <th>9176</th>\n",
       "      <td>ICBF REGIONAL CAQUETA</td>\n",
       "      <td>704143114.0</td>\n",
       "      <td>899999239</td>\n",
       "      <td>3747</td>\n",
       "    </tr>\n",
       "  </tbody>\n",
       "</table>\n",
       "<p>348 rows × 4 columns</p>\n",
       "</div>"
      ],
      "text/plain": [
       "                                                 NOMBRE       CODIGO  \\\n",
       "203        DEPARTAMENTO CUNDINAMARCASECRETARIA JURIDICA  702165101.0   \n",
       "204   DEPARTAMENTO CUNDINAMARCASECRETARIA MINAS ENER...  702262189.0   \n",
       "205   DEPARTAMENTO CUNDINAMARCASECRETARIA MUJER EQUI...  702312794.0   \n",
       "206      DEPARTAMENTO CUNDINAMARCASECRETARIA PLANEACION  708701222.0   \n",
       "207   DEPARTAMENTO CUNDINAMARCASECRETARIA TECNOLOGIA...  702162363.0   \n",
       "...                                                 ...          ...   \n",
       "9172                                ICBF REGIONAL CHOCO  704142603.0   \n",
       "9173                              ICBF REGIONAL CORDOBA  704187525.0   \n",
       "9174                              ICBF REGIONAL GUAJIRA  703458380.0   \n",
       "9175                             ICBF REGIONAL GUAVIARE  704192269.0   \n",
       "9176                              ICBF REGIONAL CAQUETA  704143114.0   \n",
       "\n",
       "            NIT    ID  \n",
       "203   899999114    30  \n",
       "204   899999114    30  \n",
       "205   899999114    30  \n",
       "206   899999114    30  \n",
       "207   899999114    30  \n",
       "...         ...   ...  \n",
       "9172  899999239  3747  \n",
       "9173  899999239  3747  \n",
       "9174  899999239  3747  \n",
       "9175  899999239  3747  \n",
       "9176  899999239  3747  \n",
       "\n",
       "[348 rows x 4 columns]"
      ]
     },
     "execution_count": 14,
     "metadata": {},
     "output_type": "execute_result"
    }
   ],
   "source": [
    "entidades_modelo['NOMBRE'] = entidades_modelo['NOMBRE'].str.replace('.', '')\n",
    "\n",
    "entidades_modelo[entidades_modelo['NOMBRE'].str.contains('.')]"
   ]
  },
  {
   "cell_type": "code",
   "execution_count": 11,
   "metadata": {},
   "outputs": [],
   "source": [
    "# Se procederá a una revisión manual para determinar si la etiqueta es correcta o nó\n",
    "entidades_modelo.to_csv('../data/bronze/entidades_proyecto.csv', sep=';', index=False)"
   ]
  },
  {
   "cell_type": "code",
   "execution_count": null,
   "metadata": {},
   "outputs": [],
   "source": []
  }
 ],
 "metadata": {
  "kernelspec": {
   "display_name": "Python 3",
   "language": "python",
   "name": "python3"
  },
  "language_info": {
   "codemirror_mode": {
    "name": "ipython",
    "version": 3
   },
   "file_extension": ".py",
   "mimetype": "text/x-python",
   "name": "python",
   "nbconvert_exporter": "python",
   "pygments_lexer": "ipython3",
   "version": "3.11.9"
  }
 },
 "nbformat": 4,
 "nbformat_minor": 2
}
